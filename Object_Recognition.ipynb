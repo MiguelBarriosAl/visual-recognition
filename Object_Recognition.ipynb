{
 "cells": [
  {
   "cell_type": "code",
   "execution_count": null,
   "metadata": {},
   "outputs": [],
   "source": [
    "import cv2 # Librería para reconocimiento visual\n",
    "import numpy as np # Librería para trabajar con matrices con alias \"np\"\n",
    "import sys\n",
    "from PIL import Image  # pip install pillow"
   ]
  },
  {
   "cell_type": "code",
   "execution_count": null,
   "metadata": {},
   "outputs": [],
   "source": [
    "cam = cv2.VideoCapture(0) # Objeto para cámara\n",
    "kernel = np.ones((5,5),np.uint8) # Matriz para Convolucional la imagen con rango de valor de 8bits\n",
    "while(True):\n",
    "    ret,frame = cam.read() # Función lectura de imagen con dos valores, ret identifica si recibe imagen o no, frame es la imagen leída\n",
    "    rangomax = np.array([50,255,50]) # Cada pixel está formado por 3 colores(rojo,verde,azul) y python (azul,verde,rojo)\n",
    "    rangomin = np.array([0,51,0]) # Rangos mínimos para detectar los objetos\n",
    "    mascara = cv2.inRange(frame, rangomin, rangomax) # Después de crear los rangos de crear objetos, se crea la máscara aplicandolo a la imagen: Cuando un pixel se ecuentre dentro del rango, será un punto blanco\n",
    "    opening = cv2.morphologyEx(mascara, cv2.MORPH_OPEN, kernel) # Eliminar ruido\n",
    "    x,y,w,h = cv2.boundingRect(opening)\n",
    "    cv2.rectangle(frame,(x,y),(x+w,y+h),(0,255,0),3)\n",
    "    cv2.circle(frame,(int(x+w/2),int(y+h/2)),5,(0,0,255),2)\n",
    "    cv2.imshow('camara',frame)\n",
    "    k=cv2.waitKey(1) & 0xFF\n",
    "    if k==27:\n",
    "        break"
   ]
  }
 ],
 "metadata": {
  "kernelspec": {
   "display_name": "Python 3",
   "language": "python",
   "name": "python3"
  },
  "language_info": {
   "codemirror_mode": {
    "name": "ipython",
    "version": 3
   },
   "file_extension": ".py",
   "mimetype": "text/x-python",
   "name": "python",
   "nbconvert_exporter": "python",
   "pygments_lexer": "ipython3",
   "version": "3.7.6"
  }
 },
 "nbformat": 4,
 "nbformat_minor": 4
}
